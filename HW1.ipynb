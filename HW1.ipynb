{
 "cells": [
  {
   "cell_type": "code",
   "execution_count": 1,
   "metadata": {},
   "outputs": [
    {
     "name": "stderr",
     "output_type": "stream",
     "text": [
      "Matplotlib is building the font cache; this may take a moment.\n"
     ]
    }
   ],
   "source": [
    "%matplotlib inline"
   ]
  },
  {
   "cell_type": "code",
   "execution_count": 3,
   "metadata": {},
   "outputs": [
    {
     "data": {
      "application/vnd.jupyter.widget-view+json": {
       "model_id": "ab7c5fc690554e7eb9c26a457db4c2d2",
       "version_major": 2,
       "version_minor": 0
      },
      "text/plain": [
       "VBox(children=(IntSlider(value=0, description='Data 1 Slice', max=480),))"
      ]
     },
     "metadata": {},
     "output_type": "display_data"
    },
    {
     "data": {
      "application/vnd.jupyter.widget-view+json": {
       "model_id": "4e3ba7057e7c4522b5d269c94ddbb691",
       "version_major": 2,
       "version_minor": 0
      },
      "text/plain": [
       "Output()"
      ]
     },
     "metadata": {},
     "output_type": "display_data"
    }
   ],
   "source": [
    "import pydicom\n",
    "import numpy as np\n",
    "import os\n",
    "import matplotlib.pyplot as plt\n",
    "import ipywidgets as widgets\n",
    "from ipywidgets import interactive\n",
    "from IPython.display import display\n",
    "\n",
    "def ReadDICOM(data):\n",
    "  DICOM_path = []\n",
    "  for fpath, _, fname in os.walk(data):\n",
    "    for f in fname:\n",
    "      DICOM_path.append(os.path.join(fpath, f))\n",
    "\n",
    "  return DICOM_path\n",
    "\n",
    "def SortDICOM(path):\n",
    "  DICOM_slice = []\n",
    "  for p in path:\n",
    "    ds = pydicom.dcmread(p)\n",
    "    if hasattr(ds, \"ImagePositionPatient\"):\n",
    "      position = ds.ImagePositionPatient\n",
    "      DICOM_slice.append((position[2], p))\n",
    "    \n",
    "  DICOM_slice.sort(key=lambda x: float(x[0])) # sorted by float(x[0])\n",
    "    \n",
    "  sorted_path = [s[1] for s in DICOM_slice]\n",
    "  sorted_path = np.array(sorted_path)\n",
    "  return sorted_path # numpy array\n",
    "\n",
    "def VisualizeCT(index):\n",
    "  Window_level = -500\n",
    "  Window_width = 1500\n",
    "\n",
    "  p = CTdata[index]\n",
    "  ds = pydicom.dcmread(p)\n",
    "  CTimage = ds.pixel_array\n",
    "  Windowimage = np.clip(CTimage, Window_level - Window_width/2, Window_level + Window_width/2)\n",
    "  Windowimage = (Windowimage - Windowimage.min()) / (Windowimage.max() - Windowimage.min())  # [0, 1]\n",
    "\n",
    "  plt.figure(figsize=(8, 8))\n",
    "  plt.imshow(Windowimage, cmap='gray')\n",
    "  plt.title(\"Lung\")  \n",
    "  plt.axis('off')\n",
    "  plt.show() \n",
    "  plt.close()\n",
    "\n",
    "    \n",
    "\n",
    "'''Main'''\n",
    "data_folders = [\n",
    "  \"/home/lyy/chenMLNovice/data/HW1data/data1\", \n",
    "  \"/home/lyy/chenMLNovice/data/HW1data/data2\", \n",
    "  \"/home/lyy/chenMLNovice/data/HW1data/data3\", \n",
    "  \"/home/lyy/chenMLNovice/data/HW1data/data4\"\n",
    "]\n",
    "i = 0\n",
    "path = ReadDICOM(data_folders[i]) \n",
    "CTdata = SortDICOM(path) \n",
    "slider = widgets.IntSlider(\n",
    "  value=0,  # 初始切片索引\n",
    "  min=0,    # 最小切片索引\n",
    "  max= int(len(CTdata)) - 1,  # 最大切片索引\n",
    "  step=1,\n",
    "  description=f'Data {i+1} Slice'\n",
    ")\n",
    "ui = widgets.VBox([slider])\n",
    "out = widgets.interactive_output(\n",
    "  VisualizeCT,\n",
    "  {\n",
    "    'index': slider\n",
    "  }\n",
    ")\n",
    "display(ui, out)\n",
    "\n"
   ]
  }
 ],
 "metadata": {
  "kernelspec": {
   "display_name": "ML",
   "language": "python",
   "name": "python3"
  },
  "language_info": {
   "codemirror_mode": {
    "name": "ipython",
    "version": 3
   },
   "file_extension": ".py",
   "mimetype": "text/x-python",
   "name": "python",
   "nbconvert_exporter": "python",
   "pygments_lexer": "ipython3",
   "version": "3.10.16"
  }
 },
 "nbformat": 4,
 "nbformat_minor": 4
}
